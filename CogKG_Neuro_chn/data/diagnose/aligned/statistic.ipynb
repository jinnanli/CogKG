{
 "cells": [
  {
   "cell_type": "code",
   "execution_count": 1,
   "metadata": {},
   "outputs": [],
   "source": [
    "import json"
   ]
  },
  {
   "cell_type": "code",
   "execution_count": 2,
   "metadata": {},
   "outputs": [],
   "source": [
    "def get_str_map(str_list):\n",
    "    str2id = {}\n",
    "    id2str = {}\n",
    "    for i, tag in enumerate(str_list):\n",
    "        str2id[tag] = i\n",
    "        id2str[i] = tag\n",
    "    return id2str, str2id\n",
    "\n",
    "def read_data(path):\n",
    "    symp_set = set()\n",
    "    disease_set = set()\n",
    "    statistics = {}\n",
    "    with open('diagnose_train.json', 'r', encoding='utf-8') as f:\n",
    "        lines = f.readlines()\n",
    "        for line in lines:\n",
    "            line = json.loads(line)\n",
    "            symptoms = line['symptoms']\n",
    "            disease = line['disease']\n",
    "            disease_set.add(disease)\n",
    "            if disease not in statistics:\n",
    "                statistics[disease] = {'symptoms':set(), 'sample_cnt':0}\n",
    "\n",
    "            for symp in symptoms:\n",
    "                symp_set.add(symp)\n",
    "                statistics[disease]['symptoms'].add(symp)\n",
    "            statistics[disease]['sample_cnt'] += 1\n",
    "\n",
    "    return symp_set, disease_set, statistics\n"
   ]
  },
  {
   "cell_type": "code",
   "execution_count": 3,
   "metadata": {},
   "outputs": [
    {
     "name": "stdout",
     "output_type": "stream",
     "text": [
      "上呼吸道感染: symptoms: 58; sample_cnt: 130\n",
      "小儿支气管炎: symptoms: 60; sample_cnt: 166\n",
      "小儿腹泻: symptoms: 55; sample_cnt: 155\n",
      "小儿消化不良: symptoms: 56; sample_cnt: 117\n",
      "total disease: 4; total symtoms:66; total sample:568\n"
     ]
    }
   ],
   "source": [
    "symp_set, disease_set, statistics= read_data('diagnose_train.json')\n",
    "id2str_symp, str2id_symp = get_str_map(list(symp_set))\n",
    "id2str_disease, str2id_disease = get_str_map(list(disease_set))\n",
    "\n",
    "for dise, attrs in statistics.items():\n",
    "    print(dise + \": \" + \"; \".join(\"{}: {}\".format(k, v if type(v) is int else len(v)) for k, v in attrs.items()))\n",
    "\n",
    "print(f'total disease: {len(disease_set)}; total symtoms:{len(symp_set)}; total sample:{sum([v if type(v) is int else 0 for (dise, attrs) in statistics.items() for (k,v) in attrs.items()])}')\n",
    "\n",
    "with open('id2symptom.json', 'w', encoding='utf-8') as f:\n",
    "    f.write(json.dumps(id2str_symp, indent=4, ensure_ascii=False))\n",
    "\n",
    "with open('id2disease.json', 'w', encoding='utf-8') as f:\n",
    "    f.write(json.dumps(id2str_disease, indent=4, ensure_ascii=False))\n",
    "\n",
    "with open('symptom2id.json', 'w', encoding='utf-8') as f:\n",
    "    f.write(json.dumps(str2id_symp, indent=4, ensure_ascii=False))\n",
    "\n",
    "with open('disease2id.json', 'w', encoding='utf-8') as f:\n",
    "    f.write(json.dumps(str2id_disease, indent=4, ensure_ascii=False))\n"
   ]
  },
  {
   "cell_type": "markdown",
   "metadata": {},
   "source": [
    "# K-Fold Crossvalidation"
   ]
  },
  {
   "cell_type": "code",
   "execution_count": 4,
   "metadata": {},
   "outputs": [],
   "source": [
    "from sklearn.model_selection import KFold\n",
    "SPLIT_NUM = 10\n",
    "kf = KFold(n_splits=SPLIT_NUM, random_state=2021, shuffle=True)\n",
    "\n",
    "cnt = 0\n",
    "with open('diagnose_train.json', 'r', encoding='utf-8') as f:\n",
    "    all_lines = f.readlines()\n",
    "    for train_index, valid_index in kf.split(all_lines):\n",
    "        with open(f'K-fold/diag_rule_fold_{cnt}.json', 'w', encoding='utf-8') as f_rule, open(f'K-fold/diag_valid_fold_{cnt}.json', 'w', encoding='utf-8') as f_data:\n",
    "            f_rule.writelines([all_lines[i] for i in train_index])\n",
    "            f_data.writelines([all_lines[i] for i in valid_index])\n",
    "            cnt += 1"
   ]
  },
  {
   "cell_type": "markdown",
   "metadata": {},
   "source": [
    "# Incremental Setting"
   ]
  },
  {
   "cell_type": "code",
   "execution_count": 5,
   "metadata": {},
   "outputs": [
    {
     "ename": "FileNotFoundError",
     "evalue": "[Errno 2] No such file or directory: 'diagnose.json'",
     "output_type": "error",
     "traceback": [
      "\u001b[0;31m---------------------------------------------------------------------------\u001b[0m",
      "\u001b[0;31mFileNotFoundError\u001b[0m                         Traceback (most recent call last)",
      "\u001b[0;32m/tmp/ipykernel_3340/2503250678.py\u001b[0m in \u001b[0;36m<module>\u001b[0;34m\u001b[0m\n\u001b[1;32m      1\u001b[0m \u001b[0;32mimport\u001b[0m \u001b[0mjson\u001b[0m\u001b[0;34m\u001b[0m\u001b[0;34m\u001b[0m\u001b[0m\n\u001b[0;32m----> 2\u001b[0;31m \u001b[0;32mwith\u001b[0m \u001b[0mopen\u001b[0m\u001b[0;34m(\u001b[0m\u001b[0;34m'diagnose.json'\u001b[0m\u001b[0;34m,\u001b[0m \u001b[0;34m'r'\u001b[0m\u001b[0;34m,\u001b[0m \u001b[0mencoding\u001b[0m\u001b[0;34m=\u001b[0m\u001b[0;34m'utf-8'\u001b[0m\u001b[0;34m)\u001b[0m \u001b[0;32mas\u001b[0m \u001b[0mf_diag\u001b[0m\u001b[0;34m,\u001b[0m \u001b[0mopen\u001b[0m\u001b[0;34m(\u001b[0m\u001b[0;34m'disease2id.json'\u001b[0m\u001b[0;34m,\u001b[0m \u001b[0;34m'r'\u001b[0m\u001b[0;34m,\u001b[0m \u001b[0mencoding\u001b[0m\u001b[0;34m=\u001b[0m\u001b[0;34m'utf-8'\u001b[0m\u001b[0;34m)\u001b[0m \u001b[0;32mas\u001b[0m \u001b[0mf_dise\u001b[0m\u001b[0;34m:\u001b[0m\u001b[0;34m\u001b[0m\u001b[0;34m\u001b[0m\u001b[0m\n\u001b[0m\u001b[1;32m      3\u001b[0m     \u001b[0mall_lines\u001b[0m \u001b[0;34m=\u001b[0m \u001b[0mf_diag\u001b[0m\u001b[0;34m.\u001b[0m\u001b[0mreadlines\u001b[0m\u001b[0;34m(\u001b[0m\u001b[0;34m)\u001b[0m\u001b[0;34m\u001b[0m\u001b[0;34m\u001b[0m\u001b[0m\n\u001b[1;32m      4\u001b[0m     \u001b[0mdiseases\u001b[0m \u001b[0;34m=\u001b[0m \u001b[0mjson\u001b[0m\u001b[0;34m.\u001b[0m\u001b[0mloads\u001b[0m\u001b[0;34m(\u001b[0m\u001b[0mf_dise\u001b[0m\u001b[0;34m.\u001b[0m\u001b[0mread\u001b[0m\u001b[0;34m(\u001b[0m\u001b[0;34m)\u001b[0m\u001b[0;34m)\u001b[0m\u001b[0;34m\u001b[0m\u001b[0;34m\u001b[0m\u001b[0m\n\u001b[1;32m      5\u001b[0m     \u001b[0;32mfor\u001b[0m \u001b[0mdise\u001b[0m \u001b[0;32min\u001b[0m \u001b[0mdiseases\u001b[0m\u001b[0;34m:\u001b[0m\u001b[0;34m\u001b[0m\u001b[0;34m\u001b[0m\u001b[0m\n",
      "\u001b[0;31mFileNotFoundError\u001b[0m: [Errno 2] No such file or directory: 'diagnose.json'"
     ]
    }
   ],
   "source": [
    "import json\n",
    "with open('diagnose.json', 'r', encoding='utf-8') as f_diag, open('disease2id.json', 'r', encoding='utf-8') as f_dise:\n",
    "    all_lines = f_diag.readlines()\n",
    "    diseases = json.loads(f_dise.read())\n",
    "    for dise in diseases:\n",
    "        with open(f'IncreSetting/diagnose_inven_{dise}.json', 'w', encoding='utf-8') as f_inven, open(f'IncreSetting/diagnose_incre_{dise}.json', 'w', encoding='utf-8') as f_incre:\n",
    "            for line in all_lines:\n",
    "                disease = json.loads(line)['disease']\n",
    "                f_inven.write(line) if disease != dise else f_incre.write(line)"
   ]
  },
  {
   "cell_type": "code",
   "execution_count": null,
   "metadata": {},
   "outputs": [],
   "source": []
  }
 ],
 "metadata": {
  "interpreter": {
   "hash": "78c5610d2c7941635e0ab1c8abf5e026ea8618128f7d40acee3878fdbc6d3d66"
  },
  "kernelspec": {
   "display_name": "Python 3.8.12 64-bit ('openke': conda)",
   "name": "python3"
  },
  "language_info": {
   "codemirror_mode": {
    "name": "ipython",
    "version": 3
   },
   "file_extension": ".py",
   "mimetype": "text/x-python",
   "name": "python",
   "nbconvert_exporter": "python",
   "pygments_lexer": "ipython3",
   "version": "3.8.12"
  },
  "orig_nbformat": 4
 },
 "nbformat": 4,
 "nbformat_minor": 2
}
