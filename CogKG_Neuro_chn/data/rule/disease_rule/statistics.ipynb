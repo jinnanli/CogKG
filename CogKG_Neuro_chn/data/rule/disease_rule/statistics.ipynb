{
 "cells": [
  {
   "cell_type": "code",
   "execution_count": 1,
   "metadata": {},
   "outputs": [],
   "source": [
    "import re, os, csv, json"
   ]
  },
  {
   "cell_type": "code",
   "execution_count": 2,
   "metadata": {},
   "outputs": [],
   "source": [
    "def get_str_map(str_list):\n",
    "    str2id = {}\n",
    "    id2str = {}\n",
    "    for i, tag in enumerate(str_list):\n",
    "        str2id[tag] = i\n",
    "        id2str[i] = tag\n",
    "    return id2str, str2id\n",
    "\n",
    "def read_rule(rule_path):\n",
    "    rule_symp_set = set()\n",
    "    rule_dise_set = set()\n",
    "    cnt = 0\n",
    "    for file in os.listdir(rule_path):\n",
    "        csv_file = os.path.join(rule_path, file)\n",
    "        if '.csv' in csv_file:\n",
    "            with open(csv_file, 'r', encoding='utf-8') as f:\n",
    "                reader = csv.reader(f)\n",
    "                for item in reader:\n",
    "                    if reader.line_num == 1:\n",
    "                        continue\n",
    "                    symtoms = re.findall(re.compile(r'[(](.*?)[)]',re.S), item[0])[0].split(',')\n",
    "                    symtoms = [i.strip().strip(\"'\") for i in symtoms]\n",
    "                    for i in symtoms:\n",
    "                        rule_symp_set.add(i)\n",
    "                    disease = re.findall('(?<=THEN).*$', item[0])[0].strip()\n",
    "                    rule_dise_set.add(disease)\n",
    "                    cnt += 1\n",
    "    print(f'{cnt} rules have been counted.')\n",
    "    return rule_symp_set, rule_dise_set\n"
   ]
  },
  {
   "cell_type": "code",
   "execution_count": 3,
   "metadata": {},
   "outputs": [
    {
     "name": "stdout",
     "output_type": "stream",
     "text": [
      "373 rules have been counted.\n"
     ]
    }
   ],
   "source": [
    "rule_symp_set, rule_dise_set = read_rule(rule_path = './')\n",
    "\n",
    "id2str_symp, str2id_symp = get_str_map(list(rule_symp_set))\n",
    "id2str_disease, str2id_disease = get_str_map(list(rule_dise_set))"
   ]
  },
  {
   "cell_type": "code",
   "execution_count": 4,
   "metadata": {},
   "outputs": [
    {
     "name": "stdout",
     "output_type": "stream",
     "text": [
      "{'发热': 0, '干咳': 1, '炎症': 2, '腹胀': 3, '扁桃体炎': 4, '腹泻': 5, '鼻塞': 6, '支原体感染': 7, '呼吸困难': 8, '哭闹': 9, '消化不良': 10, '大便黑绿色': 11, '便秘': 12, '嗜睡': 13, '肺炎': 14, '肺部可闻湿啰音、痰鸣音': 15, '呼吸音粗糙': 16, '低热': 17, '气管炎': 18, '可闻及肠鸣音': 19, '呼吸道感染': 20, '咽喉炎': 21, '咽喉不适': 22, '咳痰': 23, '出汗': 24, '腹痛': 25, '疱疹': 26, '口腔溃疡': 27, '声音嘶哑': 28, '恶心': 29, '高热': 30, '黏液便': 31, '头晕': 32, '鼻流涕': 33, '烦躁': 34, '鼻炎': 35, '水样便': 36, '呕吐': 37, '贫血': 38, '皮疹': 39, '肠炎': 40, '湿疹': 41, '支气管肺炎': 42, 'C反应蛋白升高': 43, '四肢厥冷': 44, '气喘': 45, 'CRP升高': 46, '头痛': 47, '过敏': 48, '细菌感染': 49, '咽部不适': 50, '喷嚏': 51, '伴中度发热': 52, '喘息': 53, '食欲不振': 54, '病毒感染': 55, '精神萎靡': 56, '咳嗽': 57, '干呕': 58}\n",
      "{'小儿消化不良': 0, '小儿腹泻': 1, '小儿感冒': 2, '小儿支气管炎': 3}\n"
     ]
    }
   ],
   "source": [
    "print(str2id_symp)\n",
    "print(str2id_disease)\n",
    "\n",
    "with open('symptom2id.json', 'w', encoding='utf-8') as f:\n",
    "    f.write(json.dumps(str2id_symp, indent=4, ensure_ascii=False))\n",
    "\n",
    "with open('disease2id.json', 'w', encoding='utf-8') as f:\n",
    "    f.write(json.dumps(str2id_disease, indent=4, ensure_ascii=False))"
   ]
  },
  {
   "cell_type": "code",
   "execution_count": null,
   "metadata": {},
   "outputs": [],
   "source": []
  }
 ],
 "metadata": {
  "interpreter": {
   "hash": "78c5610d2c7941635e0ab1c8abf5e026ea8618128f7d40acee3878fdbc6d3d66"
  },
  "kernelspec": {
   "display_name": "Python 3.8.12 64-bit ('openke': conda)",
   "name": "python3"
  },
  "language_info": {
   "codemirror_mode": {
    "name": "ipython",
    "version": 3
   },
   "file_extension": ".py",
   "mimetype": "text/x-python",
   "name": "python",
   "nbconvert_exporter": "python",
   "pygments_lexer": "ipython3",
   "version": "3.8.12"
  },
  "orig_nbformat": 4
 },
 "nbformat": 4,
 "nbformat_minor": 2
}
