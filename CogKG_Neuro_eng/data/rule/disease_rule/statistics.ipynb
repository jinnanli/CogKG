{
 "cells": [
  {
   "cell_type": "code",
   "execution_count": 1,
   "metadata": {},
   "outputs": [],
   "source": [
    "import re, os, csv, json"
   ]
  },
  {
   "cell_type": "code",
   "execution_count": 2,
   "metadata": {},
   "outputs": [],
   "source": [
    "def get_str_map(str_list):\n",
    "    str2id = {}\n",
    "    id2str = {}\n",
    "    for i, tag in enumerate(str_list):\n",
    "        str2id[tag] = i\n",
    "        id2str[i] = tag\n",
    "    return id2str, str2id\n",
    "\n",
    "def read_rule(rule_path):\n",
    "    rule_symp_set = set()\n",
    "    rule_dise_set = set()\n",
    "    cnt = 0\n",
    "    for file in os.listdir(rule_path):\n",
    "        csv_file = os.path.join(rule_path, file)\n",
    "        if '.csv' in csv_file:\n",
    "            with open(csv_file, 'r', encoding='utf-8') as f:\n",
    "                reader = csv.reader(f)\n",
    "                for item in reader:\n",
    "                    if reader.line_num == 1:\n",
    "                        continue\n",
    "                    symtoms = re.findall(re.compile(r'[(](.*?)[)]',re.S), item[0])[0].split(',')\n",
    "                    symtoms = [i.strip().strip(\"'\") for i in symtoms]\n",
    "                    for i in symtoms:\n",
    "                        rule_symp_set.add(i)\n",
    "                    disease = re.findall('(?<=THEN).*$', item[0])[0].strip()\n",
    "                    rule_dise_set.add(disease)\n",
    "                    cnt += 1\n",
    "    print(f'{cnt} rules have been counted.')\n",
    "    return rule_symp_set, rule_dise_set\n"
   ]
  },
  {
   "cell_type": "code",
   "execution_count": 3,
   "metadata": {},
   "outputs": [
    {
     "name": "stdout",
     "output_type": "stream",
     "text": [
      "182 rules have been counted.\n"
     ]
    }
   ],
   "source": [
    "rule_symp_set, rule_dise_set = read_rule(rule_path = './')\n",
    "\n",
    "id2str_symp, str2id_symp = get_str_map(list(rule_symp_set))\n",
    "id2str_disease, str2id_disease = get_str_map(list(rule_dise_set))"
   ]
  },
  {
   "cell_type": "code",
   "execution_count": 4,
   "metadata": {},
   "outputs": [
    {
     "name": "stdout",
     "output_type": "stream",
     "text": [
      "{'C0221512': 0, 'C0344232': 1, 'C0018021': 2, 'C0037384': 3, 'C0037383': 4, 'C1384666': 5, 'C0027424': 6, 'C0085624': 7, 'C0542301': 8, 'C1971624': 9, 'C4074940': 10, 'C0014591': 11, 'C0008031': 12, 'C4048182': 13, 'C0085594': 14, 'C0040264': 15, 'C0577098': 16, 'C0013604': 17, 'C0022281': 18, 'C0018674': 19, 'C0018681': 20, 'C0235162': 21, 'C0038056': 22, 'C2087577': 23, 'C0013404': 24, 'C0085593': 25, 'C0239978': 26, 'C0042963': 27, 'C0010200': 28, 'C0015230': 29, 'C0030252': 30, 'C0270996': 31, 'C3887784': 32, 'C0015672': 33, 'C0242429': 34, 'C0027497': 35, 'C0015967': 36, 'C0007859': 37, 'C1291077': 38, 'C4317146': 39, 'C0012833': 40, 'C0011991': 41, 'C0019521': 42, 'C0038990': 43, 'C0232292': 44, 'C0000737': 45, 'C0009806': 46, 'C0426579': 47, 'C0849907': 48, 'C0332563': 49, 'C0033774': 50, 'C1260880': 51, 'C0851578': 52, 'C0151827': 53, 'C0085636': 54, 'C0019825': 55, 'C0234238': 56, 'C0013456': 57, 'C0262397': 58}\n",
      "{'C0011615': 0, 'C0014868': 1, 'C0032285': 2, 'C0014335': 3, 'C0009763': 4, 'C0004096': 5, 'C0029878': 6, 'C1279369': 7, 'C0024894': 8, 'C0035455': 9, 'C0040147': 10, 'C0876926': 11}\n"
     ]
    }
   ],
   "source": [
    "print(str2id_symp)\n",
    "print(str2id_disease)\n",
    "\n",
    "with open('symptom2id.json', 'w', encoding='utf-8') as f:\n",
    "    f.write(json.dumps(str2id_symp, indent=4, ensure_ascii=False))\n",
    "\n",
    "with open('disease2id.json', 'w', encoding='utf-8') as f:\n",
    "    f.write(json.dumps(str2id_disease, indent=4, ensure_ascii=False))"
   ]
  },
  {
   "cell_type": "code",
   "execution_count": null,
   "metadata": {},
   "outputs": [],
   "source": []
  }
 ],
 "metadata": {
  "interpreter": {
   "hash": "78c5610d2c7941635e0ab1c8abf5e026ea8618128f7d40acee3878fdbc6d3d66"
  },
  "kernelspec": {
   "display_name": "Python 3.8.12 64-bit ('openke': conda)",
   "name": "python3"
  },
  "language_info": {
   "codemirror_mode": {
    "name": "ipython",
    "version": 3
   },
   "file_extension": ".py",
   "mimetype": "text/x-python",
   "name": "python",
   "nbconvert_exporter": "python",
   "pygments_lexer": "ipython3",
   "version": "3.8.12"
  },
  "orig_nbformat": 4
 },
 "nbformat": 4,
 "nbformat_minor": 2
}
