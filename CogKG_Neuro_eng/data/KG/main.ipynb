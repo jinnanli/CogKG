{
 "cells": [
  {
   "cell_type": "code",
   "execution_count": 2,
   "metadata": {},
   "outputs": [],
   "source": [
    "import pickle\n",
    "model = pickle.load(open('TransE.pkl', 'rb'))\n",
    "ent2id_dict, id2ent_list, id2rel_list, rel2id_dict = model.graph.values()\n",
    "ent_embed, rel_embed = model.solver.values()"
   ]
  },
  {
   "cell_type": "code",
   "execution_count": 4,
   "metadata": {},
   "outputs": [
    {
     "name": "stdout",
     "output_type": "stream",
     "text": [
      "entity set size: 293879\n",
      "relation set size: 162\n",
      "embedding size: 512\n",
      "dict_keys(['characterizes', 'during', 'time_aspect_of', 'dose_form_of', 'inheres_in', 'has_measurement_method', 'has_procedure_morphology', 'route_of_administration_of', 'alternative_of', 'specimen_procedure_of', 'concentration_strength_denominator_value_of', 'specimen_substance_of', 'has_count_of_base_of_active_ingredient', 'concentration_strength_numerator_value_of', 'focus_of', 'moved_to', 'has_modification', 'uses_substance', 'intent_of', 'has_procedure_site', 'access_device_used_by', 'finding_context_of', 'component_of', 'basis_of_strength_substance_of', 'specimen_source_topography_of', 'specimen_of', 'indirect_morphology_of', 'causative_agent_of', 'device_used_by', 'has_unit_of_presentation', 'has_surgical_approach', 'property_of', 'has_disposition', 'has_direct_device', 'occurs_before', 'has_direct_substance', 'has_access', 'specimen_source_morphology_of', 'direct_morphology_of', 'occurs_in', 'has_priority', 'presentation_strength_denominator_unit_of', 'presentation_strength_denominator_value_of', 'was_a', 'has_basis_of_strength_substance', 'priority_of', 'clinical_course_of', 'has_associated_finding', 'method_of', 'characterized_by', 'presentation_strength_numerator_unit_of', 'inverse_was_a', 'has_revision_status', 'has_concentration_strength_denominator_value', 'has_presentation_strength_denominator_value', 'referred_to_by', 'has_focus', 'has_specimen', 'has_interpretation', 'has_indirect_morphology', 'has_specimen_procedure', 'has_causative_agent', 'active_ingredient_of', 'associated_morphology_of', 'disposition_of', 'inverse_isa', 'has_presentation_strength_denominator_unit', 'associated_with', 'has_finding_method', 'procedure_site_of', 'direct_site_of', 'has_clinical_course', 'same_as', 'has_property', 'direct_device_of', 'interpretation_of', 'has_intent', 'has_occurrence', 'direct_substance_of', 'has_laterality', 'has_direct_site', 'possibly_equivalent_to', 'has_specimen_substance', 'has_procedure_device', 'has_scale_type', 'uses_device', 'unit_of_presentation_of', 'occurs_after', 'direct_procedure_site_of', 'finding_site_of', 'has_alternative', 'has_dose_form', 'indirect_device_of', 'has_specimen_source_topography', 'laterality_of', 'interprets', 'associated_procedure_of', 'due_to', 'has_associated_morphology', 'has_precise_active_ingredient', 'has_concentration_strength_numerator_unit', 'has_pathological_process', 'associated_finding_of', 'is_interpreted_by', 'is_modification_of', 'procedure_device_of', 'has_finding_site', 'has_presentation_strength_numerator_unit', 'realization_of', 'uses_access_device', 'presentation_strength_numerator_value_of', 'cause_of', 'indirect_procedure_site_of', 'has_indirect_procedure_site', 'entire_anatomy_structure_of', 'procedure_morphology_of', 'has_specimen_source_identity', 'concentration_strength_denominator_unit_of', 'procedure_context_of', 'has_direct_morphology', 'revision_status_of', 'has_direct_procedure_site', 'substance_used_by', 'has_finding_context', 'moved_from', 'count_of_base_of_active_ingredient_of', 'role_played_by', 'has_route_of_administration', 'plays_role', 'precise_active_ingredient_of', 'has_component', 'concentration_strength_numerator_unit_of', 'has_indirect_device', 'has_realization', 'has_concentration_strength_numerator_value', 'surgical_approach_of', 'has_active_ingredient', 'finding_method_of', 'has_specimen_source_morphology', 'has_entire_anatomy_structure', 'part_anatomy_structure_of', 'has_presentation_strength_numerator_value', 'isa', 'temporally_related_to', 'has_temporal_context', 'measurement_method_of', 'has_inherent_attribute', 'severity_of', 'access_of', 'has_associated_procedure', 'has_time_aspect', 'inverse_during', 'specimen_source_identity_of', 'temporal_context_of', 'has_severity', 'refers_to', 'pathological_process_of', 'has_part_anatomy_structure', 'has_method', 'has_concentration_strength_denominator_unit', 'scale_type_of', 'has_procedure_context'])\n"
     ]
    }
   ],
   "source": [
    "print(f'entity set size: {len(ent2id_dict)}')\n",
    "print(f'relation set size: {len(rel2id_dict)}')\n",
    "print(f'embedding size: {ent_embed.shape[-1]}')\n",
    "\n",
    "print(rel2id_dict.keys())"
   ]
  },
  {
   "cell_type": "code",
   "execution_count": 5,
   "metadata": {},
   "outputs": [
    {
     "name": "stdout",
     "output_type": "stream",
     "text": [
      "['C4075891', 'C0442151', 'C3879620', 'C0492672', 'C0574383', 'C4517573', 'C3839735', 'C0441926', 'C0311438', 'C0303272']\n",
      "90587\n"
     ]
    }
   ],
   "source": [
    "print(list(ent2id_dict.keys())[:10])\n",
    "print(ent2id_dict['C0012833'])"
   ]
  },
  {
   "cell_type": "code",
   "execution_count": 8,
   "metadata": {},
   "outputs": [
    {
     "name": "stdout",
     "output_type": "stream",
     "text": [
      "[ 1.54926127e-03 -1.42013445e-03 -5.06248362e-02  1.76074244e-02\n",
      " -4.31978069e-02 -3.34932469e-03 -1.46114938e-02  2.83561554e-02\n",
      " -1.11451671e-02  2.44346559e-02  1.20906485e-02 -5.60416011e-05\n",
      " -7.09920703e-03  1.51366731e-02  3.51279378e-02  4.72837277e-02\n",
      " -3.24849710e-02 -8.94065667e-03 -1.67238563e-02 -5.31669892e-02\n",
      " -1.25770271e-02 -2.31406372e-02  1.81699749e-02  1.17447227e-02\n",
      " -5.59444819e-03  2.52937172e-02 -4.03119363e-02  5.72733842e-02\n",
      " -3.19903693e-03  1.11837713e-02 -5.50161600e-02 -1.17335245e-02\n",
      "  5.60707003e-02  4.38474528e-02 -1.39277009e-03 -1.48543678e-02\n",
      " -1.29844132e-03 -7.94909000e-02 -3.06001045e-02  2.14795023e-02\n",
      " -3.49272750e-02  9.65305977e-03 -2.50004679e-02 -8.90889438e-04\n",
      "  4.78821567e-05 -1.12684700e-03  2.47165579e-02 -1.96915269e-02\n",
      " -5.22968685e-03 -2.57969908e-02 -1.67960841e-02  4.13507689e-03\n",
      " -4.60969517e-03 -2.44412143e-02 -5.51050669e-03  1.88435416e-03\n",
      "  1.49273705e-02  6.66808756e-03  1.03680615e-03  1.39852578e-03\n",
      " -5.31833479e-03  1.24619501e-02  1.63821620e-03  6.34738617e-03\n",
      "  2.12399215e-02 -8.26311633e-02  1.68932695e-02  3.07801869e-02\n",
      "  8.46577343e-03 -4.16285805e-02 -2.16689594e-02 -5.36632314e-02\n",
      " -1.48305427e-02 -5.28589785e-02  1.44303897e-02  3.98691706e-02\n",
      " -9.67785902e-03 -2.57782731e-02 -6.62625255e-03 -1.62121970e-02\n",
      "  1.85231697e-02 -6.03107223e-03 -3.56514044e-02 -8.98402836e-03\n",
      " -4.01468985e-02  9.03503411e-03 -1.91786289e-02  1.20582208e-02\n",
      "  2.78957817e-03  1.96198002e-02 -3.49823525e-03 -3.36464792e-02\n",
      " -3.78157548e-03  4.51605879e-02 -5.68081625e-03 -8.65159370e-03\n",
      " -2.11961381e-02  1.43324574e-02  3.46476398e-02 -3.74094513e-03\n",
      " -1.60755832e-02 -8.76363590e-02 -1.25820967e-04 -1.82984136e-02\n",
      "  3.95260286e-03 -1.92893166e-02 -2.44391076e-02  9.69691668e-03\n",
      " -7.06686219e-03  1.32765761e-02 -8.34625796e-04  5.43158362e-03\n",
      "  1.67451557e-02 -7.75023829e-03  1.32966135e-02  2.20688147e-04\n",
      "  2.72374116e-02 -1.29262824e-02 -1.37465168e-02 -2.79813707e-02\n",
      " -8.86392407e-03 -8.43576249e-03 -7.15711759e-03  6.06164662e-03\n",
      "  4.18600105e-02 -3.33480584e-03 -4.30858647e-03  1.84410792e-02\n",
      "  3.59203294e-02  6.15086369e-02 -1.26977777e-02 -1.75853055e-02\n",
      " -2.98695937e-02  2.84962039e-02  1.00304456e-02 -1.51767461e-02\n",
      "  3.96829471e-02 -3.20377722e-02 -1.23912032e-04 -6.30451962e-02\n",
      " -7.24393129e-03  1.20984539e-02 -8.29010271e-03  6.30134810e-03\n",
      " -2.59546898e-02  1.44674284e-02 -9.24400054e-03 -9.33079980e-03\n",
      "  2.41061114e-02 -1.91003503e-03 -1.68734025e-02  2.07380541e-02\n",
      " -1.17167346e-02  2.29743589e-02 -3.11453436e-02  1.87351853e-02\n",
      " -2.21309904e-02  3.25992145e-03 -1.53416907e-02 -1.85197312e-02\n",
      " -2.39424426e-02 -1.49686995e-03  4.02353844e-03  6.38137013e-03\n",
      " -9.95891634e-03 -7.15088397e-02 -1.35801015e-02 -2.06994358e-02\n",
      "  2.04890836e-02  3.41501348e-02  1.69718079e-02 -1.52374897e-02\n",
      "  2.73305494e-02 -2.69646663e-02 -3.24127004e-02  9.54550784e-03\n",
      " -3.37665039e-03  1.10104717e-02 -2.39072479e-02 -3.07236973e-04\n",
      "  3.87510099e-02  4.83359918e-02 -4.54893941e-03  3.33895499e-04\n",
      "  1.63369961e-02  3.53908469e-03 -1.05600012e-02 -2.78181806e-02\n",
      " -2.06353422e-03 -2.21995148e-03 -3.83765367e-03  3.16871479e-02\n",
      " -2.51891166e-02  6.87306151e-02 -5.75002283e-03 -1.45682329e-02\n",
      "  2.09671129e-02 -3.68511230e-02  4.45889123e-02 -2.10950114e-02\n",
      "  1.71927344e-02 -1.42400758e-02 -4.73200483e-03  1.24839349e-02\n",
      " -2.40303427e-02  7.35843321e-03  1.46375969e-03 -2.17117518e-02\n",
      " -2.36023450e-04  6.50198525e-03  1.65962912e-02 -1.07590593e-02\n",
      "  8.24803859e-03 -2.80394498e-02  2.08186172e-02  5.59756719e-03\n",
      "  1.41383614e-02 -7.97815062e-03  8.33314192e-03 -5.11737280e-02\n",
      "  5.89784933e-03  3.33804376e-02 -3.03592905e-02 -3.59893835e-04\n",
      "  6.40337029e-03  2.92356312e-02  7.72767793e-03  3.66712399e-02\n",
      " -8.87034927e-03  1.01303458e-02 -4.86279977e-03  1.23777585e-02\n",
      " -1.48481717e-02  9.98103991e-03 -8.22025351e-03 -1.69365481e-02\n",
      " -1.06173530e-02  3.49233596e-05  2.29235273e-02  9.14627593e-03\n",
      "  5.36732674e-02 -1.83888245e-02  3.12167616e-03  7.79967150e-03\n",
      " -1.64569933e-02 -1.85523555e-02 -2.98328605e-02  2.43693497e-02\n",
      " -1.10518541e-02 -1.43544562e-03 -6.36351667e-03 -6.47337455e-03\n",
      " -2.20832904e-03  9.24341101e-03  9.09859966e-03  5.89035451e-02\n",
      " -2.01349538e-02  3.55948694e-03 -3.24047878e-02  1.64872669e-02\n",
      "  7.74924643e-03  5.14412336e-02 -4.98005329e-03 -1.85521331e-03\n",
      " -2.06367187e-02 -1.83436982e-02 -3.85571923e-03  5.19575216e-02\n",
      "  6.38242112e-03 -8.85805562e-02 -2.23495085e-02 -1.58166252e-02\n",
      " -4.85852681e-04 -1.87209789e-02 -1.11812092e-02  3.04711815e-02\n",
      " -8.36267020e-04  1.62238572e-02  6.91777747e-03  2.47271527e-02\n",
      " -2.30814293e-02  4.64098249e-03  9.58780106e-03 -1.54595021e-02\n",
      "  2.45148567e-06  3.74013558e-02 -2.06555147e-02 -2.10360102e-02\n",
      " -2.17478648e-02 -1.93838980e-02  9.30067245e-03 -2.28787045e-04\n",
      "  1.42060907e-03  1.86264869e-02 -1.77288409e-02 -2.42780484e-02\n",
      " -5.95909171e-03 -1.55267231e-02 -2.01335475e-02 -1.29986741e-02\n",
      "  2.36051134e-03  2.93896999e-02 -5.20615503e-02  1.09364288e-02\n",
      "  5.25926054e-02  5.25181405e-02 -2.43578502e-03  4.94343862e-02\n",
      " -1.68693950e-03 -5.41213388e-03 -1.76982526e-02 -3.00030652e-02\n",
      " -1.64569151e-02 -1.16666257e-02 -7.78509770e-03 -6.75386470e-03\n",
      "  1.30591188e-02  1.64209679e-02 -1.12430118e-02  1.68618571e-03\n",
      " -1.01920767e-02 -2.79753394e-02  1.05126500e-02  6.95379265e-03\n",
      "  3.43161933e-02  6.39985548e-03  4.06903140e-02 -1.12072341e-02\n",
      " -1.00035565e-02  5.51688997e-03  2.83986572e-02  3.08528896e-02\n",
      " -9.94899496e-03  3.05032227e-02  3.06533501e-02  3.97612453e-02\n",
      "  4.43387171e-03 -4.87403274e-02 -1.11379558e-02  3.37433740e-02\n",
      " -7.92936236e-03 -5.44141605e-03 -8.66151601e-02  7.80653488e-03\n",
      " -7.49458233e-03  1.97866634e-02 -1.50339231e-02  6.60086516e-04\n",
      "  9.87980422e-03 -6.43922621e-03  9.41461232e-03  1.35867354e-02\n",
      " -5.09589277e-02  2.28027999e-02 -2.51872987e-02 -1.03809917e-02\n",
      "  1.64169818e-02  3.60421203e-02  9.06878524e-03 -3.02111767e-02\n",
      " -6.27860725e-02 -2.34087668e-02  4.08723988e-02 -1.67053251e-04\n",
      "  2.20950507e-02  5.50784320e-02  9.74853057e-03 -1.43191330e-02\n",
      " -1.57454587e-03  1.93997007e-02  1.38422493e-02 -1.94723736e-02\n",
      " -8.54586344e-03  4.87089008e-02  2.17429805e-03  3.30215553e-03\n",
      "  1.99609194e-02  5.81538677e-03  1.32705681e-02 -1.27172461e-02\n",
      " -3.80598078e-03  1.52979763e-02  7.03595802e-02  3.48146958e-03\n",
      " -1.02666561e-02 -2.19482128e-02  7.32540013e-03 -1.16990386e-02\n",
      " -4.41415608e-02 -2.96003576e-02 -9.94278770e-03 -6.45494536e-02\n",
      " -1.67271886e-02  1.11779431e-02 -1.29247997e-02  3.62042002e-02\n",
      "  8.07453413e-03  1.86000839e-02  6.91116229e-02  5.93401399e-03\n",
      "  2.85342149e-02  2.92059686e-02  4.55633067e-02 -3.45403850e-02\n",
      "  1.48076797e-02 -1.91967562e-02 -4.23355699e-02  9.80512891e-03\n",
      "  7.44579211e-02 -2.99129612e-03  1.81733929e-02 -2.47002039e-02\n",
      "  2.21365429e-02 -7.28320563e-03 -1.73298288e-02  6.47213729e-03\n",
      "  3.36574875e-02 -1.53648229e-02 -1.26391137e-02 -5.30963205e-03\n",
      " -3.99578623e-02 -2.03307495e-02 -1.57271866e-02  3.60449739e-02\n",
      " -1.89622901e-02 -1.14021664e-02  9.32604726e-03 -4.29717191e-02\n",
      "  1.39760543e-02 -1.51393982e-02 -7.74720591e-03 -3.17825153e-02\n",
      " -2.73206979e-02  2.03371141e-02 -2.23642774e-02  6.71516210e-02\n",
      " -5.75344358e-03 -3.51260714e-02 -2.16001906e-02  3.76884975e-02\n",
      "  1.62260402e-02  2.34559039e-03 -2.92713312e-03 -9.42740403e-03\n",
      "  1.39909079e-02  2.01824978e-02 -3.32597352e-04  5.67176305e-02\n",
      " -7.12371198e-03 -1.66771859e-02  2.04387568e-02 -4.33864929e-02\n",
      "  1.30832158e-02  4.27906476e-02 -1.60092451e-02  5.76344132e-03\n",
      "  1.78750996e-02 -2.33631954e-02  3.97019321e-03  2.03016843e-03\n",
      " -6.10827375e-03 -1.53272375e-02 -9.23399813e-03  8.51069763e-03\n",
      " -1.27457140e-03 -2.94332020e-03 -2.72768140e-02 -1.96860172e-03\n",
      " -2.02100500e-02  1.85943600e-02  2.00217012e-02 -5.24771214e-03\n",
      "  2.39776056e-02 -9.96428076e-03 -1.35097057e-02 -7.14339223e-03\n",
      "  2.87400726e-02  1.54338870e-02 -7.07113789e-03 -3.75570351e-04\n",
      "  1.48063153e-02 -3.50582227e-02 -1.82785224e-02 -9.59343556e-03\n",
      " -8.60114209e-03 -1.79822315e-02 -1.08399279e-02 -8.27232655e-03\n",
      "  4.28437181e-02  5.47814891e-02 -6.21739179e-02  1.21656023e-02\n",
      "  5.23151504e-03  1.32334139e-02  4.53578271e-02  5.31217381e-02\n",
      "  3.90228070e-02  3.26263020e-04  1.42861893e-02 -3.08540501e-02\n",
      " -6.32659048e-02 -1.59641961e-03 -1.99250095e-02 -4.88804206e-02\n",
      " -2.00608629e-03 -4.33135778e-02  3.85061512e-03 -5.53932739e-03\n",
      " -3.29467887e-03 -6.68410445e-04 -3.42087075e-02  7.34116975e-03]\n"
     ]
    }
   ],
   "source": [
    "print(ent_embed[ent2id_dict['C0012833']])"
   ]
  },
  {
   "cell_type": "code",
   "execution_count": null,
   "metadata": {},
   "outputs": [],
   "source": []
  }
 ],
 "metadata": {
  "interpreter": {
   "hash": "9d212cf336df5a952d96870cad97f0d15b5821700fd24743c6bc756a0cec9eb0"
  },
  "kernelspec": {
   "display_name": "Python 3.6.8 64-bit ('py3': conda)",
   "language": "python",
   "name": "python3"
  },
  "language_info": {
   "codemirror_mode": {
    "name": "ipython",
    "version": 3
   },
   "file_extension": ".py",
   "mimetype": "text/x-python",
   "name": "python",
   "nbconvert_exporter": "python",
   "pygments_lexer": "ipython3",
   "version": "3.8.12"
  },
  "orig_nbformat": 4
 },
 "nbformat": 4,
 "nbformat_minor": 2
}
